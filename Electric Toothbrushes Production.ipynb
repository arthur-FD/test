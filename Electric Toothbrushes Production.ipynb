{
 "cells": [
  {
   "cell_type": "markdown",
   "metadata": {},
   "source": [
    "# <img src=\"./assets/fd-logo.png\" style=\"width:10%;height=10%\"/>\n",
    "# Case Study: Electric Toothbrushes Production\n",
    "\n",
    "## Introduction\n",
    "\n",
    "You have access to the following data:\n",
    "- Production forecasts for several electric toothbrush manufacturers for current products and planned product launches until December 2025.\n",
    "- Price data for parts and materials for current and planned electric toothbrushes.\n",
    "The data is stored in an Excel file with 3 worksheets.\n",
    "\n",
    "## Data Dictionary\n",
    "\n",
    "```yaml\n",
    "file_path: data/production_forecast.xlsx\n",
    "worksheets:\n",
    "    - PRODUCTION_FORECAST:\n",
    "        - COMPANY: Name of the electric toothbrush  manufacturer\n",
    "        - PRODUCT: Name of electric toothbrush\n",
    "        - {YYYY}-{MM}: Forecasted (or realised) production in a given month in number of units\n",
    "        - {YYYY}Q{Q}: Forecasted (or realised) production in a given quarter in number of units\n",
    "        - {YYYY}CY: Forecasted (or realised) production in a given calendar year in number of units\n",
    "    - PARTS_SUPPLIERS:\n",
    "        - PART_TYPE: Type of part\n",
    "        - COMPANY: Name of part supplier\n",
    "        - PART: Name of part\n",
    "        - CUSTOMER: Name of customer\n",
    "        - CUSTOMER_PRODUCT: Product the part will be used for\n",
    "        - PRICE_PER_PRODUCT: Price of the parts used to produce one unit of the product\n",
    "    - MATERIALS_SUPPLIERS:\n",
    "        - MATERIAL: Name of material\n",
    "        - COMPANY: Name of material supplier\n",
    "        - CUSTOMER: Name of customer\n",
    "        - CUSTOMER_PRODUCT: Product the material will be used for\n",
    "        - PRICE_PER_PRODUCT: Price of the material used to produce one unit of the product\n",
    "```\n",
    "\n",
    "__Note:__ The total cost and materials of parts of one unit of a product is the sum of the `PRICE_PER_PRODUCT` of all the parts and materials supplied for this product.\n",
    "\n",
    "## Part 1\n",
    "\n",
    "__Q1.__ Create a class to read and store the data. \n",
    "\n",
    "__Q2.__ Add checks to validate that each worksheet has the right columns and raise an error if it is not the case.\n",
    "\n",
    "__Q3.__ Add a method that outputs the forecasted date in long form. The resulting data should have the following columns: `COMPANY`, `PRODUCT`, `DATE`, `GRANULARITY`, `VALUE`. Where:\n",
    " - `GRANULARITY` is one of `QUARTER`, `MONTH`, `YEAR`.\n",
    " - `DATE` is the last day of the period (`2020-01-31` for `2020-01`, `2020-03-31` for `2020Q1`, `2020-12-31` for `2020CY`).\n",
    "\n",
    "## Part 2\n",
    "\n",
    "__Open ended analysis:__ Analyse the data and present your findings.\n",
    "\n",
    "Examples of relevant analysis:\n",
    "- Impact of the forecasted production on suppliers revenues.\n",
    "- Visualisation of the relationships between manufactures, parts suppliers and materials suppliers.\n",
    "\n",
    "You are free to pick one of these examples or to produce your own analysis."
   ]
  },
  {
   "cell_type": "code",
   "execution_count": 1,
   "metadata": {},
   "outputs": [],
   "source": [
    "import sys\n",
    "import os\n",
    "import collections\n",
    "import re\n",
    "import pandas as pd\n",
    "import numpy as np\n",
    "import datetime\n",
    "import calendar\n",
    "import matplotlib.pyplot as plt\n",
    "%matplotlib inline\n",
    "import seaborn as sns\n",
    "sns.set_style('darkgrid')\n",
    "\n",
    "import warnings\n",
    "import datetime as dt\n",
    "warnings.filterwarnings('ignore')\n",
    "pd.options.display.max_rows = None\n",
    "pd.options.display.max_columns = None"
   ]
  },
  {
   "cell_type": "markdown",
   "metadata": {},
   "source": [
    "# Part 1\n",
    "- Create a class to read and store the data. \n",
    "- Add column validations and get_forecast_data to outputs the forecasted date in long form"
   ]
  },
  {
   "cell_type": "code",
   "execution_count": 15,
   "metadata": {},
   "outputs": [],
   "source": [
    "PRODUCTION_FORECAST_COLS = ['COMPANY', 'PRODUCT', '2020-01', '2020-02', '2020-03', '2020-04', '2020-05', '2020-06', '2020-07', '2020-08', '2020-09', '2020-10', '2020-11', '2020-12', '2021-01', '2021-02', '2021-03', '2021-04', '2021-05', '2021-06', '2021-07', '2021-08', '2021-09', '2021-10', '2021-11', '2021-12', '2022-01', '2022-02', '2022-03', '2022-04', '2022-05', '2022-06', '2022-07', '2022-08', '2022-09', '2022-10', '2022-11', '2022-12', '2023-01', '2023-02', '2023-03', '2023-04', '2023-05', '2023-06', '2023-07', '2023-08', '2023-09', '2023-10', '2023-11', '2023-12', '2024-01', '2024-02', '2024-03', '2024-04', '2024-05', '2024-06', '2024-07', '2024-08', '2024-09', '2024-10', '2024-11', '2024-12', '2025-01', '2025-02', '2025-03', '2025-04', '2025-05', '2025-06', '2025-07', '2025-08', '2025-09', '2025-10', '2025-11', '2025-12', '2020Q1', '2020Q2', '2020Q3', '2020Q4', '2021Q1', '2021Q2', '2021Q3', '2021Q4', '2022Q1', '2022Q2', '2022Q3', '2022Q4', '2023Q1', '2023Q2', '2023Q3', '2023Q4', '2024Q1', '2024Q2', '2024Q3', '2024Q4', '2025Q1', '2025Q2', '2025Q3', '2025Q4', '2021CY', '2022CY', '2023CY', '2024CY', '2025CY']\n",
    "PARTS_SUPPLIERS_COLS = ['PART_TYPE', 'COMPANY', 'PART', 'CUSTOMER', 'CUSTOMER_PRODUCT', 'PRICE_PER_PRODUCT']\n",
    "MATERIALS_SUPPLIERS = ['MATERIAL', 'COMPANY', 'CUSTOMER', 'CUSTOMER_PRODUCT', 'PRICE_PER_PRODUCT']\n",
    "\n",
    "class FileReader:\n",
    "    '''\n",
    "        FileRead is a class providing function to\n",
    "        1. Read excel and convert to pandas dataframe\n",
    "        2. validate if column lists are expected\n",
    "        3. Transform production forecast to long form expression format dataframe\n",
    "            COMPANY, PRODUCT, DATE, GRANULARITY, VALUE\n",
    "    '''\n",
    "    def __init__(self, file):\n",
    "        self.file = file\n",
    "        \n",
    "        try:\n",
    "            self.xls = pd.ExcelFile(self.file)\n",
    "            \n",
    "            ## Check if sheets are expected\n",
    "            if self.xls.sheet_names[0] != 'PRODUCTION_FORECAST' \\\n",
    "                or self.xls.sheet_names[1] != 'PARTS_SUPPLIERS' \\\n",
    "                or self.xls.sheet_names[2] != 'MATERIALS_SUPPLIERS':\n",
    "                raise Exception('Worksheet has incorrect tab(s)')\n",
    "            \n",
    "            self.production_forecast = self.xls.parse(0)\n",
    "            self.parts_supplier = self.xls.parse(1)\n",
    "            self.materials_suppliers = self.xls.parse(2)\n",
    "            \n",
    "            ## Check if column lists are correct, raise Exception if not\n",
    "            if sorted(self.production_forecast.columns.tolist()) != sorted(PRODUCTION_FORECAST_COLS):\n",
    "                raise Exception('Wrong field list in Sheet PRODUCTION_FORECAST')\n",
    "            \n",
    "            if sorted(self.parts_supplier.columns.tolist()) != sorted(PARTS_SUPPLIERS_COLS):\n",
    "                raise Exception('Wrong field list in Sheet PARTS_SUPPLIERS_COLS')\n",
    "            \n",
    "            if sorted(self.materials_suppliers.columns.tolist()) != sorted(MATERIALS_SUPPLIERS):\n",
    "                raise Exception('Wrong field list in Sheet MATERIALS_SUPPLIERS')\n",
    "            \n",
    "            print('File {} load successfully.'.format(self.file))\n",
    "            \n",
    "        except Exception as e:\n",
    "            print('Error', str(e))\n",
    "            raise e\n",
    "        finally:\n",
    "            self.xls.close()\n",
    "\n",
    "    \n",
    "    def __parse_peried(self, x):\n",
    "        '''\n",
    "            private class: \n",
    "                - parse period format into date of last month\n",
    "                - 2020-01 -> 2020-01-31\n",
    "                - 2020Q1 -> 2020-03-31\n",
    "                - 2020CY -> 2020-12-31\n",
    "        '''\n",
    "        quarter_month_map = {1:3,2:6,3:9,4:12}\n",
    "        try:\n",
    "            if '-' in x:\n",
    "                date_obj = datetime.datetime.strptime(x, '%Y-%m')\n",
    "                day = calendar.monthrange(date_obj.year,date_obj.month)[1]\n",
    "                date = datetime.datetime(date_obj.year, date_obj.month, day)\n",
    "                return date.strftime('%Y-%m-%d'), 'MONTH'\n",
    "            \n",
    "            elif 'Q' in x:\n",
    "                date_part = x.split('Q')\n",
    "                year = int(date_part[0])\n",
    "                quarter = int(date_part[1])\n",
    "                month = quarter_month_map[int(quarter)]\n",
    "                day = calendar.monthrange(year,month)[1]\n",
    "                date = datetime.datetime(year, month, day)\n",
    "                return date.strftime('%Y-%m-%d'), 'QUARTER'\n",
    "            elif 'CY' in x:\n",
    "                year = int(x[0:4])\n",
    "                month = 12\n",
    "                date = datetime.datetime(year, 12, 31)\n",
    "                return date.strftime('%Y-%m-%d'), 'YEAR'\n",
    "            else:\n",
    "                raise ValueError('Invalid granularity string')\n",
    "        except Exception as e:\n",
    "            print('Error', str(e))\n",
    "            raise e\n",
    "\n",
    "            \n",
    "    def get_forecast_data(self):\n",
    "        '''\n",
    "            Method to convert forecast data to long form\n",
    "            Output - pandas.dataframe \n",
    "                    with columns COMPANY, PRODUCT, DATE, GRANULARITY, VALUE\n",
    "        '''\n",
    "        date_cols = PRODUCTION_FORECAST_COLS[2:]\n",
    "        company_product_cols = PRODUCTION_FORECAST_COLS[0:2]\n",
    "        df_list = []\n",
    "        for col in date_cols:\n",
    "            df = self.production_forecast[company_product_cols+[col]]\n",
    "            date, granularity = self.__parse_peried(col)\n",
    "            df['DATE'] = date\n",
    "            df['GRANULARITY'] = granularity\n",
    "            \n",
    "            df = df[company_product_cols + ['DATE','GRANULARITY', col]]\n",
    "            df.rename(columns={col:'VALUE'}, inplace=True)\n",
    "            df_list.append(df)\n",
    "        \n",
    "        df = pd.concat(df_list)\n",
    "        return df\n",
    "        "
   ]
  },
  {
   "cell_type": "code",
   "execution_count": 16,
   "metadata": {},
   "outputs": [
    {
     "name": "stdout",
     "output_type": "stream",
     "text": [
      "File ./data/production_forecast.xlsx load successfully.\n"
     ]
    }
   ],
   "source": [
    "file = './data/production_forecast.xlsx'\n",
    "file_reader = FileReader(file)"
   ]
  },
  {
   "cell_type": "code",
   "execution_count": 283,
   "metadata": {},
   "outputs": [
    {
     "data": {
      "text/html": [
       "<div>\n",
       "<style scoped>\n",
       "    .dataframe tbody tr th:only-of-type {\n",
       "        vertical-align: middle;\n",
       "    }\n",
       "\n",
       "    .dataframe tbody tr th {\n",
       "        vertical-align: top;\n",
       "    }\n",
       "\n",
       "    .dataframe thead th {\n",
       "        text-align: right;\n",
       "    }\n",
       "</style>\n",
       "<table border=\"1\" class=\"dataframe\">\n",
       "  <thead>\n",
       "    <tr style=\"text-align: right;\">\n",
       "      <th></th>\n",
       "      <th>COMPANY</th>\n",
       "      <th>PRODUCT</th>\n",
       "      <th>DATE</th>\n",
       "      <th>GRANULARITY</th>\n",
       "      <th>VALUE</th>\n",
       "    </tr>\n",
       "  </thead>\n",
       "  <tbody>\n",
       "    <tr>\n",
       "      <th>0</th>\n",
       "      <td>Big Tooth</td>\n",
       "      <td>BT-2000</td>\n",
       "      <td>2020-01-31</td>\n",
       "      <td>MONTH</td>\n",
       "      <td>310700.228851</td>\n",
       "    </tr>\n",
       "    <tr>\n",
       "      <th>1</th>\n",
       "      <td>Big Tooth</td>\n",
       "      <td>BT-3000</td>\n",
       "      <td>2020-01-31</td>\n",
       "      <td>MONTH</td>\n",
       "      <td>0.000000</td>\n",
       "    </tr>\n",
       "    <tr>\n",
       "      <th>2</th>\n",
       "      <td>SonicBrush</td>\n",
       "      <td>Sonic S</td>\n",
       "      <td>2020-01-31</td>\n",
       "      <td>MONTH</td>\n",
       "      <td>81348.086939</td>\n",
       "    </tr>\n",
       "    <tr>\n",
       "      <th>3</th>\n",
       "      <td>SonicBrush</td>\n",
       "      <td>Sonic X</td>\n",
       "      <td>2020-01-31</td>\n",
       "      <td>MONTH</td>\n",
       "      <td>20337.021735</td>\n",
       "    </tr>\n",
       "    <tr>\n",
       "      <th>4</th>\n",
       "      <td>Boral</td>\n",
       "      <td>B8</td>\n",
       "      <td>2020-01-31</td>\n",
       "      <td>MONTH</td>\n",
       "      <td>200273.384341</td>\n",
       "    </tr>\n",
       "  </tbody>\n",
       "</table>\n",
       "</div>"
      ],
      "text/plain": [
       "      COMPANY  PRODUCT        DATE GRANULARITY          VALUE\n",
       "0   Big Tooth  BT-2000  2020-01-31       MONTH  310700.228851\n",
       "1   Big Tooth  BT-3000  2020-01-31       MONTH       0.000000\n",
       "2  SonicBrush  Sonic S  2020-01-31       MONTH   81348.086939\n",
       "3  SonicBrush  Sonic X  2020-01-31       MONTH   20337.021735\n",
       "4       Boral       B8  2020-01-31       MONTH  200273.384341"
      ]
     },
     "execution_count": 283,
     "metadata": {},
     "output_type": "execute_result"
    }
   ],
   "source": [
    "df = file_reader.get_forecast_data()\n",
    "df.head()"
   ]
  },
  {
   "cell_type": "markdown",
   "metadata": {},
   "source": [
    "# Part 2 \n",
    "- Analyze Impact of the forecasted production on suppliers revenues.\n",
    "- Assumption:\n",
    "1. Product prediction are reasonable. \n",
    "2. Part/Material Suppliers price won't change through the period of 2020-2025\n",
    "\n",
    "- Due to limit of time, we are only analyzing the annual revenue (hence selected GRANULARITY = 'YEAR')\n"
   ]
  },
  {
   "cell_type": "markdown",
   "metadata": {},
   "source": [
    "### Part 2. I - Before checking the suppliers, let's see the market share and treding of each product saler\n",
    "\n",
    "- 💡 **Insight**\n",
    "1. Absolute market share value of those 3 companies are predicted to be drop in 5 years\n",
    "2. Big Tooth is having highest drop amoung all 3 companies\n",
    "3. Boral would have slight recover in 2023 but decrease back to 2021's level in 2025\n",
    "4. SonicBrush is expected to have stable capacity"
   ]
  },
  {
   "cell_type": "code",
   "execution_count": 22,
   "metadata": {},
   "outputs": [
    {
     "data": {
      "text/plain": [
       "<AxesSubplot:xlabel='YEAR', ylabel='VALUE'>"
      ]
     },
     "execution_count": 22,
     "metadata": {},
     "output_type": "execute_result"
    },
    {
     "data": {
      "image/png": "[encoded data removed]",
      "text/plain": [
       "<Figure size 720x432 with 1 Axes>"
      ]
     },
     "metadata": {},
     "output_type": "display_data"
    }
   ],
   "source": [
    "cols = ['COMPANY','PRODUCT','YEAR','GRANULARITY','VALUE']\n",
    "df = production_forecast[cols] \\\n",
    "        .groupby(['YEAR','GRANULARITY'])['VALUE'].sum() \\\n",
    "        .reset_index()\n",
    "plt.figure(figsize=(10,6))\n",
    "sns.barplot(x=\"YEAR\", y=\"VALUE\", data=df)"
   ]
  },
  {
   "cell_type": "code",
   "execution_count": 19,
   "metadata": {},
   "outputs": [],
   "source": [
    "cols = ['COMPANY','PRODUCT','YEAR','GRANULARITY','VALUE']\n",
    "df = production_forecast[cols] \\\n",
    "        .groupby(['COMPANY','YEAR','GRANULARITY'])['VALUE'].sum() \\\n",
    "        .reset_index()"
   ]
  },
  {
   "cell_type": "code",
   "execution_count": 20,
   "metadata": {
    "scrolled": false
   },
   "outputs": [
    {
     "data": {
      "text/plain": [
       "<AxesSubplot:xlabel='YEAR', ylabel='VALUE'>"
      ]
     },
     "execution_count": 20,
     "metadata": {},
     "output_type": "execute_result"
    },
    {
     "data": {
      "image/png": "[encoded data removed]",
      "text/plain": [
       "<Figure size 1152x432 with 1 Axes>"
      ]
     },
     "metadata": {},
     "output_type": "display_data"
    }
   ],
   "source": [
    "plt.figure(figsize=(16,6))\n",
    "sns.barplot(x=\"YEAR\", y=\"VALUE\", hue=\"COMPANY\", data=df)"
   ]
  },
  {
   "cell_type": "markdown",
   "metadata": {},
   "source": [
    "### Part 2. II - Analyse the impact on part suppliers"
   ]
  },
  {
   "cell_type": "code",
   "execution_count": 27,
   "metadata": {
    "collapsed": true
   },
   "outputs": [],
   "source": [
    "## Merge product forecast data and part supplier data, and derive forecasted annual sales for each part supplier\n",
    "production_forecast = file_reader.get_forecast_data()\n",
    "production_forecast = production_forecast.query(\"GRANULARITY == 'YEAR'\")\n",
    "parts_supplier = file_reader.parts_supplier\n",
    "materials_suppliers = file_reader.materials_suppliers\n",
    "production_forecast['YEAR'] = production_forecast['DATE'].apply(lambda x: x.split('-')[0])"
   ]
  },
  {
   "cell_type": "code",
   "execution_count": 28,
   "metadata": {},
   "outputs": [
    {
     "data": {
      "text/html": [
       "<div>\n",
       "<style scoped>\n",
       "    .dataframe tbody tr th:only-of-type {\n",
       "        vertical-align: middle;\n",
       "    }\n",
       "\n",
       "    .dataframe tbody tr th {\n",
       "        vertical-align: top;\n",
       "    }\n",
       "\n",
       "    .dataframe thead th {\n",
       "        text-align: right;\n",
       "    }\n",
       "</style>\n",
       "<table border=\"1\" class=\"dataframe\">\n",
       "  <thead>\n",
       "    <tr style=\"text-align: right;\">\n",
       "      <th></th>\n",
       "      <th>COMPANY</th>\n",
       "      <th>PRODUCT</th>\n",
       "      <th>DATE</th>\n",
       "      <th>GRANULARITY</th>\n",
       "      <th>VALUE</th>\n",
       "      <th>YEAR</th>\n",
       "      <th>PART_TYPE</th>\n",
       "      <th>COMPANY_PARTS</th>\n",
       "      <th>PART</th>\n",
       "      <th>CUSTOMER_PARTS</th>\n",
       "      <th>CUSTOMER_PRODUCT_PARTS</th>\n",
       "      <th>PRICE_PER_PRODUCT_PARTS</th>\n",
       "      <th>MATERIAL</th>\n",
       "      <th>COMPANY_MATERIALS</th>\n",
       "      <th>CUSTOMER_MATERIALS</th>\n",
       "      <th>CUSTOMER_PRODUCT_MATERIALS</th>\n",
       "      <th>PRICE_PER_PRODUCT_MATERIALS</th>\n",
       "      <th>MATERIAL_DIRECT</th>\n",
       "      <th>COMPANY_DIRECT</th>\n",
       "      <th>CUSTOMER</th>\n",
       "      <th>CUSTOMER_PRODUCT</th>\n",
       "      <th>PRICE_PER_PRODUCT</th>\n",
       "    </tr>\n",
       "  </thead>\n",
       "  <tbody>\n",
       "    <tr>\n",
       "      <th>0</th>\n",
       "      <td>Big Tooth</td>\n",
       "      <td>BT-2000</td>\n",
       "      <td>2021-12-31</td>\n",
       "      <td>YEAR</td>\n",
       "      <td>3.579502e+06</td>\n",
       "      <td>2021</td>\n",
       "      <td>Motor</td>\n",
       "      <td>Emotor</td>\n",
       "      <td>M5498</td>\n",
       "      <td>Big Tooth</td>\n",
       "      <td>BT-2000</td>\n",
       "      <td>4.200</td>\n",
       "      <td>Metal</td>\n",
       "      <td>Matco</td>\n",
       "      <td>Emotor</td>\n",
       "      <td>M5498</td>\n",
       "      <td>2.1000</td>\n",
       "      <td>NaN</td>\n",
       "      <td>NaN</td>\n",
       "      <td>NaN</td>\n",
       "      <td>NaN</td>\n",
       "      <td>NaN</td>\n",
       "    </tr>\n",
       "    <tr>\n",
       "      <th>1</th>\n",
       "      <td>Big Tooth</td>\n",
       "      <td>BT-2000</td>\n",
       "      <td>2021-12-31</td>\n",
       "      <td>YEAR</td>\n",
       "      <td>3.579502e+06</td>\n",
       "      <td>2021</td>\n",
       "      <td>Brush</td>\n",
       "      <td>Bristle</td>\n",
       "      <td>B648</td>\n",
       "      <td>Big Tooth</td>\n",
       "      <td>BT-2000</td>\n",
       "      <td>1.575</td>\n",
       "      <td>Plastic</td>\n",
       "      <td>TWP</td>\n",
       "      <td>Bristle</td>\n",
       "      <td>B648</td>\n",
       "      <td>0.7875</td>\n",
       "      <td>NaN</td>\n",
       "      <td>NaN</td>\n",
       "      <td>NaN</td>\n",
       "      <td>NaN</td>\n",
       "      <td>NaN</td>\n",
       "    </tr>\n",
       "    <tr>\n",
       "      <th>2</th>\n",
       "      <td>Big Tooth</td>\n",
       "      <td>BT-2000</td>\n",
       "      <td>2021-12-31</td>\n",
       "      <td>YEAR</td>\n",
       "      <td>3.579502e+06</td>\n",
       "      <td>2021</td>\n",
       "      <td>Case</td>\n",
       "      <td>CaseCo</td>\n",
       "      <td>C456</td>\n",
       "      <td>Big Tooth</td>\n",
       "      <td>BT-2000</td>\n",
       "      <td>2.625</td>\n",
       "      <td>Plastic</td>\n",
       "      <td>TWP</td>\n",
       "      <td>CaseCo</td>\n",
       "      <td>C456</td>\n",
       "      <td>1.3125</td>\n",
       "      <td>NaN</td>\n",
       "      <td>NaN</td>\n",
       "      <td>NaN</td>\n",
       "      <td>NaN</td>\n",
       "      <td>NaN</td>\n",
       "    </tr>\n",
       "    <tr>\n",
       "      <th>3</th>\n",
       "      <td>Big Tooth</td>\n",
       "      <td>BT-2000</td>\n",
       "      <td>2022-12-31</td>\n",
       "      <td>YEAR</td>\n",
       "      <td>2.722915e+06</td>\n",
       "      <td>2022</td>\n",
       "      <td>Motor</td>\n",
       "      <td>Emotor</td>\n",
       "      <td>M5498</td>\n",
       "      <td>Big Tooth</td>\n",
       "      <td>BT-2000</td>\n",
       "      <td>4.200</td>\n",
       "      <td>Metal</td>\n",
       "      <td>Matco</td>\n",
       "      <td>Emotor</td>\n",
       "      <td>M5498</td>\n",
       "      <td>2.1000</td>\n",
       "      <td>NaN</td>\n",
       "      <td>NaN</td>\n",
       "      <td>NaN</td>\n",
       "      <td>NaN</td>\n",
       "      <td>NaN</td>\n",
       "    </tr>\n",
       "    <tr>\n",
       "      <th>4</th>\n",
       "      <td>Big Tooth</td>\n",
       "      <td>BT-2000</td>\n",
       "      <td>2022-12-31</td>\n",
       "      <td>YEAR</td>\n",
       "      <td>2.722915e+06</td>\n",
       "      <td>2022</td>\n",
       "      <td>Brush</td>\n",
       "      <td>Bristle</td>\n",
       "      <td>B648</td>\n",
       "      <td>Big Tooth</td>\n",
       "      <td>BT-2000</td>\n",
       "      <td>1.575</td>\n",
       "      <td>Plastic</td>\n",
       "      <td>TWP</td>\n",
       "      <td>Bristle</td>\n",
       "      <td>B648</td>\n",
       "      <td>0.7875</td>\n",
       "      <td>NaN</td>\n",
       "      <td>NaN</td>\n",
       "      <td>NaN</td>\n",
       "      <td>NaN</td>\n",
       "      <td>NaN</td>\n",
       "    </tr>\n",
       "  </tbody>\n",
       "</table>\n",
       "</div>"
      ],
      "text/plain": [
       "     COMPANY  PRODUCT        DATE GRANULARITY         VALUE  YEAR PART_TYPE  \\\n",
       "0  Big Tooth  BT-2000  2021-12-31        YEAR  3.579502e+06  2021     Motor   \n",
       "1  Big Tooth  BT-2000  2021-12-31        YEAR  3.579502e+06  2021     Brush   \n",
       "2  Big Tooth  BT-2000  2021-12-31        YEAR  3.579502e+06  2021      Case   \n",
       "3  Big Tooth  BT-2000  2022-12-31        YEAR  2.722915e+06  2022     Motor   \n",
       "4  Big Tooth  BT-2000  2022-12-31        YEAR  2.722915e+06  2022     Brush   \n",
       "\n",
       "  COMPANY_PARTS   PART CUSTOMER_PARTS CUSTOMER_PRODUCT_PARTS  \\\n",
       "0        Emotor  M5498      Big Tooth                BT-2000   \n",
       "1       Bristle   B648      Big Tooth                BT-2000   \n",
       "2        CaseCo   C456      Big Tooth                BT-2000   \n",
       "3        Emotor  M5498      Big Tooth                BT-2000   \n",
       "4       Bristle   B648      Big Tooth                BT-2000   \n",
       "\n",
       "   PRICE_PER_PRODUCT_PARTS MATERIAL COMPANY_MATERIALS CUSTOMER_MATERIALS  \\\n",
       "0                    4.200    Metal             Matco             Emotor   \n",
       "1                    1.575  Plastic               TWP            Bristle   \n",
       "2                    2.625  Plastic               TWP             CaseCo   \n",
       "3                    4.200    Metal             Matco             Emotor   \n",
       "4                    1.575  Plastic               TWP            Bristle   \n",
       "\n",
       "  CUSTOMER_PRODUCT_MATERIALS  PRICE_PER_PRODUCT_MATERIALS MATERIAL_DIRECT  \\\n",
       "0                      M5498                       2.1000             NaN   \n",
       "1                       B648                       0.7875             NaN   \n",
       "2                       C456                       1.3125             NaN   \n",
       "3                      M5498                       2.1000             NaN   \n",
       "4                       B648                       0.7875             NaN   \n",
       "\n",
       "  COMPANY_DIRECT CUSTOMER CUSTOMER_PRODUCT  PRICE_PER_PRODUCT  \n",
       "0            NaN      NaN              NaN                NaN  \n",
       "1            NaN      NaN              NaN                NaN  \n",
       "2            NaN      NaN              NaN                NaN  \n",
       "3            NaN      NaN              NaN                NaN  \n",
       "4            NaN      NaN              NaN                NaN  "
      ]
     },
     "execution_count": 28,
     "metadata": {},
     "output_type": "execute_result"
    }
   ],
   "source": [
    "suppliers = parts_supplier.merge(materials_suppliers, left_on=['COMPANY','PART'], right_on=['CUSTOMER','CUSTOMER_PRODUCT'],\n",
    "                                 suffixes=('_PARTS','_MATERIALS'))\n",
    "df = production_forecast.merge(suppliers, left_on=['COMPANY','PRODUCT'], right_on=['CUSTOMER_PARTS','CUSTOMER_PRODUCT_PARTS'])\n",
    "df = df.merge(materials_suppliers, left_on=['COMPANY','PRODUCT'], right_on=['CUSTOMER','CUSTOMER_PRODUCT'],\n",
    "             suffixes=('','_DIRECT'), how='left')\n",
    "df.head()"
   ]
  },
  {
   "cell_type": "code",
   "execution_count": 29,
   "metadata": {},
   "outputs": [],
   "source": [
    "parts_supplier_forecast = parts_supplier.merge(production_forecast, left_on=['CUSTOMER','CUSTOMER_PRODUCT'], right_on=['COMPANY', 'PRODUCT'],\n",
    "                                     suffixes=('_PARTS',''))\n",
    "parts_supplier_forecast['SALES'] = parts_supplier_forecast['PRICE_PER_PRODUCT'] * parts_supplier_forecast['VALUE']"
   ]
  },
  {
   "cell_type": "code",
   "execution_count": 30,
   "metadata": {
    "scrolled": true
   },
   "outputs": [
    {
     "data": {
      "text/html": [
       "<div>\n",
       "<style scoped>\n",
       "    .dataframe tbody tr th:only-of-type {\n",
       "        vertical-align: middle;\n",
       "    }\n",
       "\n",
       "    .dataframe tbody tr th {\n",
       "        vertical-align: top;\n",
       "    }\n",
       "\n",
       "    .dataframe thead th {\n",
       "        text-align: right;\n",
       "    }\n",
       "</style>\n",
       "<table border=\"1\" class=\"dataframe\">\n",
       "  <thead>\n",
       "    <tr style=\"text-align: right;\">\n",
       "      <th></th>\n",
       "      <th>PART_TYPE</th>\n",
       "      <th>COMPANY_PARTS</th>\n",
       "      <th>PART</th>\n",
       "      <th>CUSTOMER</th>\n",
       "      <th>CUSTOMER_PRODUCT</th>\n",
       "      <th>PRICE_PER_PRODUCT</th>\n",
       "      <th>COMPANY</th>\n",
       "      <th>PRODUCT</th>\n",
       "      <th>DATE</th>\n",
       "      <th>GRANULARITY</th>\n",
       "      <th>VALUE</th>\n",
       "      <th>YEAR</th>\n",
       "      <th>SALES</th>\n",
       "    </tr>\n",
       "  </thead>\n",
       "  <tbody>\n",
       "    <tr>\n",
       "      <th>0</th>\n",
       "      <td>Motor</td>\n",
       "      <td>Emotor</td>\n",
       "      <td>M5498</td>\n",
       "      <td>Big Tooth</td>\n",
       "      <td>BT-2000</td>\n",
       "      <td>4.2</td>\n",
       "      <td>Big Tooth</td>\n",
       "      <td>BT-2000</td>\n",
       "      <td>2021-12-31</td>\n",
       "      <td>YEAR</td>\n",
       "      <td>3.579502e+06</td>\n",
       "      <td>2021</td>\n",
       "      <td>1.503391e+07</td>\n",
       "    </tr>\n",
       "    <tr>\n",
       "      <th>1</th>\n",
       "      <td>Motor</td>\n",
       "      <td>Emotor</td>\n",
       "      <td>M5498</td>\n",
       "      <td>Big Tooth</td>\n",
       "      <td>BT-2000</td>\n",
       "      <td>4.2</td>\n",
       "      <td>Big Tooth</td>\n",
       "      <td>BT-2000</td>\n",
       "      <td>2022-12-31</td>\n",
       "      <td>YEAR</td>\n",
       "      <td>2.722915e+06</td>\n",
       "      <td>2022</td>\n",
       "      <td>1.143624e+07</td>\n",
       "    </tr>\n",
       "    <tr>\n",
       "      <th>2</th>\n",
       "      <td>Motor</td>\n",
       "      <td>Emotor</td>\n",
       "      <td>M5498</td>\n",
       "      <td>Big Tooth</td>\n",
       "      <td>BT-2000</td>\n",
       "      <td>4.2</td>\n",
       "      <td>Big Tooth</td>\n",
       "      <td>BT-2000</td>\n",
       "      <td>2023-12-31</td>\n",
       "      <td>YEAR</td>\n",
       "      <td>5.260671e+05</td>\n",
       "      <td>2023</td>\n",
       "      <td>2.209482e+06</td>\n",
       "    </tr>\n",
       "    <tr>\n",
       "      <th>3</th>\n",
       "      <td>Motor</td>\n",
       "      <td>Emotor</td>\n",
       "      <td>M5498</td>\n",
       "      <td>Big Tooth</td>\n",
       "      <td>BT-2000</td>\n",
       "      <td>4.2</td>\n",
       "      <td>Big Tooth</td>\n",
       "      <td>BT-2000</td>\n",
       "      <td>2024-12-31</td>\n",
       "      <td>YEAR</td>\n",
       "      <td>0.000000e+00</td>\n",
       "      <td>2024</td>\n",
       "      <td>0.000000e+00</td>\n",
       "    </tr>\n",
       "    <tr>\n",
       "      <th>4</th>\n",
       "      <td>Motor</td>\n",
       "      <td>Emotor</td>\n",
       "      <td>M5498</td>\n",
       "      <td>Big Tooth</td>\n",
       "      <td>BT-2000</td>\n",
       "      <td>4.2</td>\n",
       "      <td>Big Tooth</td>\n",
       "      <td>BT-2000</td>\n",
       "      <td>2025-12-31</td>\n",
       "      <td>YEAR</td>\n",
       "      <td>0.000000e+00</td>\n",
       "      <td>2025</td>\n",
       "      <td>0.000000e+00</td>\n",
       "    </tr>\n",
       "  </tbody>\n",
       "</table>\n",
       "</div>"
      ],
      "text/plain": [
       "  PART_TYPE COMPANY_PARTS   PART   CUSTOMER CUSTOMER_PRODUCT  \\\n",
       "0     Motor        Emotor  M5498  Big Tooth          BT-2000   \n",
       "1     Motor        Emotor  M5498  Big Tooth          BT-2000   \n",
       "2     Motor        Emotor  M5498  Big Tooth          BT-2000   \n",
       "3     Motor        Emotor  M5498  Big Tooth          BT-2000   \n",
       "4     Motor        Emotor  M5498  Big Tooth          BT-2000   \n",
       "\n",
       "   PRICE_PER_PRODUCT    COMPANY  PRODUCT        DATE GRANULARITY  \\\n",
       "0                4.2  Big Tooth  BT-2000  2021-12-31        YEAR   \n",
       "1                4.2  Big Tooth  BT-2000  2022-12-31        YEAR   \n",
       "2                4.2  Big Tooth  BT-2000  2023-12-31        YEAR   \n",
       "3                4.2  Big Tooth  BT-2000  2024-12-31        YEAR   \n",
       "4                4.2  Big Tooth  BT-2000  2025-12-31        YEAR   \n",
       "\n",
       "          VALUE  YEAR         SALES  \n",
       "0  3.579502e+06  2021  1.503391e+07  \n",
       "1  2.722915e+06  2022  1.143624e+07  \n",
       "2  5.260671e+05  2023  2.209482e+06  \n",
       "3  0.000000e+00  2024  0.000000e+00  \n",
       "4  0.000000e+00  2025  0.000000e+00  "
      ]
     },
     "execution_count": 30,
     "metadata": {},
     "output_type": "execute_result"
    }
   ],
   "source": [
    "parts_supplier_forecast.head()"
   ]
  },
  {
   "cell_type": "code",
   "execution_count": 31,
   "metadata": {},
   "outputs": [],
   "source": [
    "cols = ['PART_TYPE','COMPANY_PARTS','YEAR','SALES']\n",
    "df = parts_supplier_forecast[cols] \\\n",
    "        .groupby(['COMPANY_PARTS','YEAR'])['SALES'].sum().reset_index()"
   ]
  },
  {
   "cell_type": "markdown",
   "metadata": {},
   "source": [
    "\n",
    "#### Overall Sales Prediction of Part Suppliers\n",
    "- 💡 **Insight**\n",
    "1. There are 8 main suppliers for 4 different part types\n",
    "2. Emotor/BAM/CaseCo are the top 3 suppliers as of now; CaseCo are expected to have a cliff drop through the coming 5 years\n",
    "3. Overall sales of CDBC are expected to be 8-9 times of the current sales. Due to the production boost on product Big Tooth\tBT-3000"
   ]
  },
  {
   "cell_type": "code",
   "execution_count": 32,
   "metadata": {
    "scrolled": true
   },
   "outputs": [
    {
     "data": {
      "text/plain": [
       "<AxesSubplot:xlabel='COMPANY_PARTS', ylabel='SALES'>"
      ]
     },
     "execution_count": 32,
     "metadata": {},
     "output_type": "execute_result"
    },
    {
     "data": {
      "image/png": "[encoded data removed]",
      "text/plain": [
       "<Figure size 1152x432 with 1 Axes>"
      ]
     },
     "metadata": {},
     "output_type": "display_data"
    }
   ],
   "source": [
    "plt.figure(figsize=(16,6))\n",
    "sns.barplot(x=\"COMPANY_PARTS\", y=\"SALES\", hue=\"YEAR\", data=df)"
   ]
  },
  {
   "cell_type": "markdown",
   "metadata": {},
   "source": [
    " #### Sales Prediction of Part Suppliers on different part Types\n",
    "- 💡 **Insight**\n",
    "1. Brush/Case/Motor are having stable market share\n",
    "2. Battery market will have the potention to expand to 2x"
   ]
  },
  {
   "cell_type": "code",
   "execution_count": 264,
   "metadata": {},
   "outputs": [],
   "source": [
    "cols = ['PART_TYPE','COMPANY_PARTS','YEAR','SALES']\n",
    "df = parts_supplier_forecast[cols] \\\n",
    "        .groupby(['PART_TYPE','YEAR'])['SALES'].sum().reset_index()"
   ]
  },
  {
   "cell_type": "code",
   "execution_count": 265,
   "metadata": {},
   "outputs": [
    {
     "data": {
      "text/plain": [
       "<AxesSubplot:xlabel='PART_TYPE', ylabel='SALES'>"
      ]
     },
     "execution_count": 265,
     "metadata": {},
     "output_type": "execute_result"
    },
    {
     "data": {
      "image/png": "[encoded data removed]",
      "text/plain": [
       "<Figure size 1152x432 with 1 Axes>"
      ]
     },
     "metadata": {},
     "output_type": "display_data"
    }
   ],
   "source": [
    "plt.figure(figsize=(16,6))\n",
    "sns.barplot(x=\"PART_TYPE\", y=\"SALES\", hue=\"YEAR\", data=df)"
   ]
  },
  {
   "cell_type": "code",
   "execution_count": 266,
   "metadata": {},
   "outputs": [
    {
     "data": {
      "text/plain": [
       "array(['Battery', 'Brush', 'Case', 'Motor'], dtype=object)"
      ]
     },
     "execution_count": 266,
     "metadata": {},
     "output_type": "execute_result"
    }
   ],
   "source": [
    "df['PART_TYPE'].unique()"
   ]
  },
  {
   "cell_type": "code",
   "execution_count": 223,
   "metadata": {},
   "outputs": [],
   "source": [
    "df = parts_supplier_forecast[cols]\n",
    "battery_df = df[df['PART_TYPE'] == 'Battery']\n",
    "battery_df = battery_df.groupby(['COMPANY_PARTS','YEAR','GRANULARITY'])['SALES'].sum().reset_index()\n",
    "brush_df = df[df['PART_TYPE'] == 'Brush']\n",
    "brush_df = brush_df.groupby(['COMPANY_PARTS','YEAR','GRANULARITY'])['SALES'].sum().reset_index()\n",
    "case_df = df[df['PART_TYPE'] == 'Case']\n",
    "case_df = case_df.groupby(['COMPANY_PARTS','YEAR','GRANULARITY'])['SALES'].sum().reset_index()\n",
    "motor_df = df[df['PART_TYPE'] == 'Motor']\n",
    "motor_df = motor_df.groupby(['COMPANY_PARTS','YEAR','GRANULARITY'])['SALES'].sum().reset_index()"
   ]
  },
  {
   "cell_type": "code",
   "execution_count": 225,
   "metadata": {},
   "outputs": [
    {
     "name": "stdout",
     "output_type": "stream",
     "text": [
      "['BAM' 'Energy Pack']\n",
      "['Brinak' 'Bristle' 'CDBC']\n",
      "['CDBC' 'CaseCo']\n",
      "['Emotor' 'GMI']\n"
     ]
    }
   ],
   "source": [
    "print(battery_df['COMPANY_PARTS'].unique())\n",
    "print(brush_df['COMPANY_PARTS'].unique())\n",
    "print(case_df['COMPANY_PARTS'].unique())\n",
    "print(motor_df['COMPANY_PARTS'].unique())"
   ]
  },
  {
   "cell_type": "code",
   "execution_count": 238,
   "metadata": {
    "scrolled": true
   },
   "outputs": [
    {
     "data": {
      "text/plain": [
       "<matplotlib.legend.Legend at 0x12cdf62b0>"
      ]
     },
     "execution_count": 238,
     "metadata": {},
     "output_type": "execute_result"
    },
    {
     "data": {
      "image/png": "[encoded data removed]",
      "text/plain": [
       "<Figure size 1008x504 with 4 Axes>"
      ]
     },
     "metadata": {},
     "output_type": "display_data"
    }
   ],
   "source": [
    "plt.figure(figsize=(14,7))\n",
    "plt.subplot(221)\n",
    "BAM = battery_df[battery_df['COMPANY_PARTS']=='BAM'].set_index('YEAR').sort_index()['SALES']\n",
    "EP = battery_df[battery_df['COMPANY_PARTS']=='Energy Pack'].set_index('YEAR').sort_index()['SALES']\n",
    "a = 0.5\n",
    "years=BAM.index.tolist()\n",
    "plt.bar(years, BAM, a, color = 'orange', label = 'BAM')\n",
    "plt.bar(years, EP, a, bottom = BAM, color = 'c', label = 'Energy Pack')\n",
    "plt.title(\"Battery\")\n",
    "plt.legend()\n",
    "\n",
    "plt.subplot(222)\n",
    "Brinak = brush_df[brush_df['COMPANY_PARTS']=='Brinak'].set_index('YEAR').sort_index()['SALES']\n",
    "Bristle = brush_df[brush_df['COMPANY_PARTS']=='Bristle'].set_index('YEAR').sort_index()['SALES']\n",
    "CDBC = brush_df[brush_df['COMPANY_PARTS']=='CDBC'].set_index('YEAR').sort_index()['SALES']\n",
    "a = 0.5\n",
    "years=Brinak.index.tolist()\n",
    "plt.bar(years, Brinak, a, color = 'pink', label = 'Brinak')\n",
    "plt.bar(years, Bristle, a, bottom = Brinak, color = 'c', label = 'Bristle')\n",
    "plt.bar(years, CDBC, a, bottom = Brinak + Bristle, color = 'orange', label = 'CDBC')\n",
    "plt.title(\"Brush\")\n",
    "plt.legend()\n",
    "\n",
    "plt.subplot(223)\n",
    "Emotor = motor_df[motor_df['COMPANY_PARTS']=='Emotor'].set_index('YEAR').sort_index()['SALES']\n",
    "GMI = motor_df[motor_df['COMPANY_PARTS']=='GMI'].set_index('YEAR').sort_index()['SALES']\n",
    "a = 0.5\n",
    "years=Emotor.index.tolist()\n",
    "plt.bar(years, Emotor, a, color = 'orange', label = 'Emotor')\n",
    "plt.bar(years, GMI, a, bottom = Emotor, color = 'c', label = 'GMI')\n",
    "plt.title(\"Motor\")\n",
    "plt.legend()\n",
    "\n",
    "plt.subplot(224)\n",
    "CDBC = case_df[case_df['COMPANY_PARTS']=='CDBC'].set_index('YEAR').sort_index()['SALES']\n",
    "CaseCo = case_df[case_df['COMPANY_PARTS']=='CaseCo'].set_index('YEAR').sort_index()['SALES']\n",
    "a = 0.5\n",
    "years=CDBC.index.tolist()\n",
    "plt.bar(years, CDBC, a, color = 'orange', label = 'CDBC')\n",
    "plt.bar(years, CaseCo, a, bottom = CDBC, color = 'c', label = 'CaseCo')\n",
    "plt.title(\"Case\")\n",
    "plt.legend()\n",
    "\n"
   ]
  },
  {
   "cell_type": "markdown",
   "metadata": {},
   "source": [
    " #### Sales Prediction of Part Suppliers on different part Types\n",
    "- 💡 **Insight**\n",
    "1. Battery market expansion will greatly benefit Energy Pack\n",
    "2. Brush market will be stable, though we are expecting CDBC will become the dominiant of the market\n",
    "3. CDBC will take more share in Case/Brush in the futrue"
   ]
  },
  {
   "cell_type": "markdown",
   "metadata": {},
   "source": [
    "### Part 2. II - Material Suppliers Sales\n",
    "#### Sales Prediction of different Material Suppliers \n",
    "- 💡 **Insight**\n",
    "1. TWP will have a hard drop\n",
    "2. Chemco, GPoly would be the rising star in five years with revenue boosting"
   ]
  },
  {
   "cell_type": "code",
   "execution_count": 267,
   "metadata": {},
   "outputs": [
    {
     "data": {
      "text/html": [
       "<div>\n",
       "<style scoped>\n",
       "    .dataframe tbody tr th:only-of-type {\n",
       "        vertical-align: middle;\n",
       "    }\n",
       "\n",
       "    .dataframe tbody tr th {\n",
       "        vertical-align: top;\n",
       "    }\n",
       "\n",
       "    .dataframe thead th {\n",
       "        text-align: right;\n",
       "    }\n",
       "</style>\n",
       "<table border=\"1\" class=\"dataframe\">\n",
       "  <thead>\n",
       "    <tr style=\"text-align: right;\">\n",
       "      <th></th>\n",
       "      <th>MATERIAL</th>\n",
       "      <th>COMPANY_MATERIALS</th>\n",
       "      <th>CUSTOMER_PRODUCT_MATERIALS</th>\n",
       "      <th>YEAR</th>\n",
       "      <th>METERIAL_COMPANY_SALES</th>\n",
       "    </tr>\n",
       "  </thead>\n",
       "  <tbody>\n",
       "    <tr>\n",
       "      <th>0</th>\n",
       "      <td>Metal</td>\n",
       "      <td>Matco</td>\n",
       "      <td>M5498</td>\n",
       "      <td>2021</td>\n",
       "      <td>1.503391e+07</td>\n",
       "    </tr>\n",
       "    <tr>\n",
       "      <th>1</th>\n",
       "      <td>Metal</td>\n",
       "      <td>Matco</td>\n",
       "      <td>M5498</td>\n",
       "      <td>2022</td>\n",
       "      <td>1.143624e+07</td>\n",
       "    </tr>\n",
       "    <tr>\n",
       "      <th>2</th>\n",
       "      <td>Metal</td>\n",
       "      <td>Matco</td>\n",
       "      <td>M5498</td>\n",
       "      <td>2023</td>\n",
       "      <td>2.209482e+06</td>\n",
       "    </tr>\n",
       "    <tr>\n",
       "      <th>3</th>\n",
       "      <td>Metal</td>\n",
       "      <td>Matco</td>\n",
       "      <td>M5498</td>\n",
       "      <td>2024</td>\n",
       "      <td>0.000000e+00</td>\n",
       "    </tr>\n",
       "    <tr>\n",
       "      <th>4</th>\n",
       "      <td>Metal</td>\n",
       "      <td>Matco</td>\n",
       "      <td>M5498</td>\n",
       "      <td>2025</td>\n",
       "      <td>0.000000e+00</td>\n",
       "    </tr>\n",
       "  </tbody>\n",
       "</table>\n",
       "</div>"
      ],
      "text/plain": [
       "  MATERIAL COMPANY_MATERIALS CUSTOMER_PRODUCT_MATERIALS  YEAR  \\\n",
       "0    Metal             Matco                      M5498  2021   \n",
       "1    Metal             Matco                      M5498  2022   \n",
       "2    Metal             Matco                      M5498  2023   \n",
       "3    Metal             Matco                      M5498  2024   \n",
       "4    Metal             Matco                      M5498  2025   \n",
       "\n",
       "   METERIAL_COMPANY_SALES  \n",
       "0            1.503391e+07  \n",
       "1            1.143624e+07  \n",
       "2            2.209482e+06  \n",
       "3            0.000000e+00  \n",
       "4            0.000000e+00  "
      ]
     },
     "execution_count": 267,
     "metadata": {},
     "output_type": "execute_result"
    }
   ],
   "source": [
    "materials_suppliers_forecast = parts_supplier_forecast.merge(materials_suppliers, left_on=['COMPANY_PARTS','PART'], right_on=['CUSTOMER','CUSTOMER_PRODUCT'],\n",
    "                                 suffixes=('','_MATERIALS'))\n",
    "## merge GPP - direct supplier for SonicBrush \n",
    "materials_suppliers_forecast = materials_suppliers_forecast.merge(materials_suppliers, left_on=['COMPANY','PRODUCT'], right_on=['CUSTOMER','CUSTOMER_PRODUCT'],\n",
    "             suffixes=('','_DIRECT'), how='left')\n",
    "materials_suppliers_forecast['PRICE_PER_PRODUCT_DIRECT'].fillna(0, inplace=True)\n",
    "materials_suppliers_forecast['PRICE_PER_PRODUCT_MATERIAL'] = materials_suppliers_forecast['PRICE_PER_PRODUCT_DIRECT'] \\\n",
    "            + materials_suppliers_forecast['PRICE_PER_PRODUCT']\n",
    "materials_suppliers_forecast['METERIAL_COMPANY_SALES'] = materials_suppliers_forecast['PRICE_PER_PRODUCT_MATERIAL'] * \\\n",
    "                    materials_suppliers_forecast['VALUE']\n",
    "cols = ['MATERIAL','COMPANY_MATERIALS','CUSTOMER_PRODUCT_MATERIALS','YEAR', 'METERIAL_COMPANY_SALES']\n",
    "materials_suppliers_forecast[cols].head()"
   ]
  },
  {
   "cell_type": "code",
   "execution_count": 268,
   "metadata": {},
   "outputs": [
    {
     "data": {
      "text/plain": [
       "<AxesSubplot:xlabel='COMPANY_MATERIALS', ylabel='METERIAL_COMPANY_SALES'>"
      ]
     },
     "execution_count": 268,
     "metadata": {},
     "output_type": "execute_result"
    },
    {
     "data": {
      "image/png": "[encoded data removed]",
      "text/plain": [
       "<Figure size 1152x432 with 1 Axes>"
      ]
     },
     "metadata": {},
     "output_type": "display_data"
    }
   ],
   "source": [
    "df = materials_suppliers_forecast[cols] \\\n",
    "        .groupby(['COMPANY_MATERIALS','YEAR'])['METERIAL_COMPANY_SALES'].sum().reset_index()\n",
    "plt.figure(figsize=(16,6))\n",
    "sns.barplot(x=\"COMPANY_MATERIALS\", y=\"METERIAL_COMPANY_SALES\", hue=\"YEAR\", data=df)"
   ]
  },
  {
   "cell_type": "code",
   "execution_count": 269,
   "metadata": {},
   "outputs": [
    {
     "data": {
      "text/plain": [
       "array(['Metal', 'Plastic', 'Lithium'], dtype=object)"
      ]
     },
     "execution_count": 269,
     "metadata": {},
     "output_type": "execute_result"
    }
   ],
   "source": [
    "materials_suppliers_forecast['MATERIAL'].unique()\n"
   ]
  },
  {
   "cell_type": "code",
   "execution_count": 275,
   "metadata": {},
   "outputs": [],
   "source": [
    "df = materials_suppliers_forecast[cols].copy()\n",
    "Metal = df[df['MATERIAL'] == 'Metal']\n",
    "Metal = Metal.groupby(['COMPANY_MATERIALS','YEAR'])['METERIAL_COMPANY_SALES'].sum().reset_index()\n",
    "Plastic = df[df['MATERIAL'] == 'Plastic']\n",
    "Plastic = Plastic.groupby(['COMPANY_MATERIALS','YEAR'])['METERIAL_COMPANY_SALES'].sum().reset_index()\n",
    "Lithium = df[df['MATERIAL'] == 'Lithium']\n",
    "Lithium = Lithium.groupby(['COMPANY_MATERIALS','YEAR'])['METERIAL_COMPANY_SALES'].sum().reset_index()"
   ]
  },
  {
   "cell_type": "code",
   "execution_count": 276,
   "metadata": {},
   "outputs": [
    {
     "name": "stdout",
     "output_type": "stream",
     "text": [
      "['Matco' 'Smith']\n",
      "['GPoly' 'Matco' 'TWP']\n",
      "['Chemco' 'Smith']\n"
     ]
    }
   ],
   "source": [
    "print(Metal['COMPANY_MATERIALS'].unique())\n",
    "print(Plastic['COMPANY_MATERIALS'].unique())\n",
    "print(Lithium['COMPANY_MATERIALS'].unique())"
   ]
  },
  {
   "cell_type": "code",
   "execution_count": 279,
   "metadata": {},
   "outputs": [
    {
     "data": {
      "text/plain": [
       "<matplotlib.legend.Legend at 0x12d6a3130>"
      ]
     },
     "execution_count": 279,
     "metadata": {},
     "output_type": "execute_result"
    },
    {
     "data": {
      "image/png": "[encoded data removed]",
      "text/plain": [
       "<Figure size 504x720 with 3 Axes>"
      ]
     },
     "metadata": {},
     "output_type": "display_data"
    }
   ],
   "source": [
    "plt.figure(figsize=(7,10))\n",
    "plt.subplot(311)\n",
    "Matco = Metal[Metal['COMPANY_MATERIALS']=='Matco'].set_index('YEAR').sort_index()['METERIAL_COMPANY_SALES']\n",
    "Smith = Metal[Metal['COMPANY_MATERIALS']=='Smith'].set_index('YEAR').sort_index()['METERIAL_COMPANY_SALES']\n",
    "a = 0.5\n",
    "years=Matco.index.tolist()\n",
    "plt.bar(years, Matco, a, color = 'orange', label = 'Matco')\n",
    "plt.bar(years, Smith, a, bottom = Matco, color = 'c', label = 'Smith')\n",
    "plt.title(\"Metal\")\n",
    "plt.legend()\n",
    "\n",
    "plt.subplot(312)\n",
    "GPoly = Plastic[Plastic['COMPANY_MATERIALS']=='GPoly'].set_index('YEAR').sort_index()['METERIAL_COMPANY_SALES']\n",
    "Matco = Plastic[Plastic['COMPANY_MATERIALS']=='Matco'].set_index('YEAR').sort_index()['METERIAL_COMPANY_SALES']\n",
    "TWP = Plastic[Plastic['COMPANY_MATERIALS']=='TWP'].set_index('YEAR').sort_index()['METERIAL_COMPANY_SALES']\n",
    "a = 0.5\n",
    "years=GPoly.index.tolist()\n",
    "plt.bar(years, Matco, a, color = 'orange', label = 'Matco')\n",
    "plt.bar(years, GPoly, a, bottom = Matco, color = 'c', label = 'GPoly')\n",
    "plt.bar(years, TWP, a, bottom = Matco + GPoly, color = 'pink', label = 'TWP')\n",
    "plt.title(\"Plastic\")\n",
    "plt.legend()\n",
    "\n",
    "plt.subplot(313)\n",
    "Chemco = Lithium[Lithium['COMPANY_MATERIALS']=='Chemco'].set_index('YEAR').sort_index()['METERIAL_COMPANY_SALES']\n",
    "Smith = Lithium[Lithium['COMPANY_MATERIALS']=='Smith'].set_index('YEAR').sort_index()['METERIAL_COMPANY_SALES']\n",
    "a = 0.5\n",
    "years=Chemco.index.tolist()\n",
    "plt.bar(years, Chemco, a, color = 'orange', label = 'Chemco')\n",
    "plt.bar(years, Smith, a, bottom = Chemco, color = 'c', label = 'Smith')\n",
    "plt.title(\"Lithium\")\n",
    "plt.legend()\n"
   ]
  },
  {
   "cell_type": "markdown",
   "metadata": {},
   "source": [
    "### Part 2. II - Material Suppliers Sales\n",
    "#### Sales Prediction of different Material Suppliers on each material\n",
    "- 💡 **Insight**\n",
    "1. Metal will have stable demand\n",
    "2. Lithium will have greater demand in next five years, due to the battery involvement. Chemco will be benefit from it\n",
    "3. Plastic will have less demand, TWP will be greatly impacted. However, GPoly are expected to have a good expansion and take up most of market share from TWP\n"
   ]
  },
  {
   "cell_type": "markdown",
   "metadata": {},
   "source": [
    "# Conclusion\n",
    "According to the prediction of next five years of production\n",
    "1. Part Supplier\n",
    "* CDBC & Energy Pack will have the largest growth\n",
    "* Bristile and CaseCo will have largest drop\n",
    "2. Material Supplier\n",
    "* Chemco & GPoly will have the largest growth\n",
    "* TWP will have largest drop"
   ]
  },
  {
   "cell_type": "code",
   "execution_count": null,
   "metadata": {},
   "outputs": [],
   "source": []
  }
 ],
 "metadata": {
  "kernelspec": {
   "display_name": "Python 3",
   "language": "python",
   "name": "python3"
  },
  "language_info": {
   "codemirror_mode": {
    "name": "ipython",
    "version": 3
   },
   "file_extension": ".py",
   "mimetype": "text/x-python",
   "name": "python",
   "nbconvert_exporter": "python",
   "pygments_lexer": "ipython3",
   "version": "3.7.7"
  }
 },
 "nbformat": 4,
 "nbformat_minor": 4
}
